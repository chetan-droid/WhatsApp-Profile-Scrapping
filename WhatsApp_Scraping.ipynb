{
 "cells": [
  {
   "cell_type": "markdown",
   "id": "5ccb629f",
   "metadata": {},
   "source": [
    "## Whatsapp profile scrapping using selenium automation"
   ]
  },
  {
   "cell_type": "code",
   "execution_count": 105,
   "id": "b6c99a73",
   "metadata": {},
   "outputs": [
    {
     "name": "stdout",
     "output_type": "stream",
     "text": [
      "Press Enter after scanning the QR code and logging in…\n",
      "https://pps.whatsapp.net/v/t61.24694-24/348485016_767625051810566_3254526445389595687_n.jpg?ccb=11-4&oh=01_AdRKXx3oWEcVXzFM8MLHvbD3ScQdpeQXXrmtt1WLxDiqCA&oe=64D80809\n",
      "<selenium.webdriver.remote.webelement.WebElement (session=\"205b716a325eb7b9f9853cfa453953ee\", element=\"28A154952F20AFBAE5882B48198FC7DD_element_48\")>\n",
      "{'Registered': 'Yes', 'Name': '', 'Status': 'Starred messages', 'Profile Picture': 'https://pps.whatsapp.net/v/t61.24694-24/348485016_767625051810566_3254526445389595687_n.jpg?ccb=11-4&oh=01_AdRKXx3oWEcVXzFM8MLHvbD3ScQdpeQXXrmtt1WLxDiqCA&oe=64D80809'}\n"
     ]
    },
    {
     "ename": "TypeError",
     "evalue": "NDFrame.to_excel() got an unexpected keyword argument 'mode'",
     "output_type": "error",
     "traceback": [
      "\u001b[1;31m---------------------------------------------------------------------------\u001b[0m",
      "\u001b[1;31mTypeError\u001b[0m                                 Traceback (most recent call last)",
      "Cell \u001b[1;32mIn[105], line 84\u001b[0m\n\u001b[0;32m     81\u001b[0m \u001b[38;5;66;03m#Data frame to store the scraped data\u001b[39;00m\n\u001b[0;32m     83\u001b[0m df \u001b[38;5;241m=\u001b[39m pd\u001b[38;5;241m.\u001b[39mDataFrame(scrape_details, index\u001b[38;5;241m=\u001b[39m[\u001b[38;5;241m0\u001b[39m])\n\u001b[1;32m---> 84\u001b[0m \u001b[43mdf\u001b[49m\u001b[38;5;241;43m.\u001b[39;49m\u001b[43mto_excel\u001b[49m\u001b[43m(\u001b[49m\u001b[38;5;124;43m\"\u001b[39;49m\u001b[38;5;124;43mwhatsapp_scrape.xlsx\u001b[39;49m\u001b[38;5;124;43m\"\u001b[39;49m\u001b[43m,\u001b[49m\u001b[43m \u001b[49m\u001b[43mmode\u001b[49m\u001b[38;5;241;43m=\u001b[39;49m\u001b[38;5;124;43m\"\u001b[39;49m\u001b[38;5;124;43ma\u001b[39;49m\u001b[38;5;124;43m\"\u001b[39;49m\u001b[43m,\u001b[49m\u001b[43m \u001b[49m\u001b[43mheader\u001b[49m\u001b[38;5;241;43m=\u001b[39;49m\u001b[38;5;28;43;01mFalse\u001b[39;49;00m\u001b[43m)\u001b[49m\n",
      "\u001b[1;31mTypeError\u001b[0m: NDFrame.to_excel() got an unexpected keyword argument 'mode'"
     ]
    }
   ],
   "source": [
    "import time\n",
    "from selenium import webdriver\n",
    "from selenium.webdriver.common.by import By\n",
    "from selenium.webdriver.support.ui import WebDriverWait\n",
    "import pandas as pd\n",
    "\n",
    "# scrape_details = {}\n",
    "# Initialize the webdriver for Chrome\n",
    "driver = webdriver.Chrome()\n",
    "\n",
    "# Open the WhatsApp Web interface\n",
    "driver.get(\"https://web.whatsapp.com/\")\n",
    "\n",
    "# Wait for the user to scan the QR code and log in\n",
    "input(\"Press Enter after scanning the QR code and logging in…\")\n",
    "\n",
    "# Enter the phone number\n",
    "# with open(\"D:\\Projects\\Dinosys\\phone.txt\", \"r\") as fp:\n",
    "#     for phn_number in fp:\n",
    "#         phn_number = phn_number.strip()\n",
    "phn_number = \"9867913757\"\n",
    "\n",
    "# Navigate to the WhatsApp Web search page\n",
    "driver.get(\"https://web.whatsapp.com/send?phone=\" + phn_number)\n",
    "\n",
    "# Dictionary to store the scraped data of whatsapp regarding phone number\n",
    "scrape_details= {\n",
    "        \"Registered\" : \"\",\n",
    "        \"Name\" : \"\",\n",
    "        \"Status\": \"\",\n",
    "        \"Profile Picture\": \"\",\n",
    "    }\n",
    "\n",
    "try:\n",
    "    # Wait for the profile head element to be visible\n",
    "    profile_element = WebDriverWait(driver, 40).until(lambda d: d.find_element(By.XPATH, \"//div[@class='_3W2ap']\"))\n",
    "    \n",
    "    #If phone number found on whatsapp then it will return registered\n",
    "    scrape_details[\"Registered\"] = \"Yes\"\n",
    "    #   Click on the profile head element\n",
    "    profile_element.click()\n",
    "\n",
    "    # For Profile picture scraping\n",
    "    try:\n",
    "        profile_picture_element = driver.find_element(By.XPATH, \"//div[@class='_2Ts6i _1xFRo']//div[@class='g0rxnol2 g9p5wyxn i0tg5vk9 aoogvgrq o2zu3hjb'][1]\")\n",
    "        profile_picture_tag = profile_picture_element.find_element(By.TAG_NAME, \"img\")\n",
    "        profile_picture = profile_picture_tag.get_attribute(\"src\")\n",
    "        print(profile_picture)\n",
    "        time.sleep(16)\n",
    "        scrape_details[\"Profile Picture\"] = profile_picture\n",
    "\n",
    "    except:\n",
    "        scrape_details[\"Profile Picture\"] = \"\"\n",
    "\n",
    "    # For name scraping\n",
    "    try:\n",
    "        name_element = driver.find_element(By.XPATH, \"//div[@class='a4ywakfo qt60bha0']\")\n",
    "        scrape_details[\"Name\"] = name_element.text\n",
    "#         time.sleep(10)\n",
    "    except:\n",
    "        scrape_details[\"Name\"] = \"\"\n",
    "\n",
    "\n",
    "    # For About me scraping\n",
    "    try:\n",
    "        about_me = driver.find_element(By.XPATH, \"//span[@class='fe5nidar fs7pz031 tl2vja3b e1gr2w1z'][1]\")\n",
    "        scrape_details[\"Status\"] = about_me.text\n",
    "        time.sleep(16)\n",
    "        print(about_me)\n",
    "    except:\n",
    "        scrape_details[\"Status\"] = \"\"\n",
    "\n",
    "\n",
    "    # Wait for the profile to load\n",
    "#             time.sleep(10)\n",
    "except:\n",
    "    scrape_details[\"Registered\"] = \"Not registered\"\n",
    "\n",
    "driver.quit()\n",
    "print(scrape_details)\n",
    "\n",
    "#Data frame to store the scraped data into excel file\n",
    "df = pd.DataFrame(scrape_details, index=[0])\n",
    "df.to_excel(\"whatsapp_scrape.xlsx\")"
   ]
  }
 ],
 "metadata": {
  "kernelspec": {
   "display_name": "Python 3 (ipykernel)",
   "language": "python",
   "name": "python3"
  },
  "language_info": {
   "codemirror_mode": {
    "name": "ipython",
    "version": 3
   },
   "file_extension": ".py",
   "mimetype": "text/x-python",
   "name": "python",
   "nbconvert_exporter": "python",
   "pygments_lexer": "ipython3",
   "version": "3.11.4"
  }
 },
 "nbformat": 4,
 "nbformat_minor": 5
}
